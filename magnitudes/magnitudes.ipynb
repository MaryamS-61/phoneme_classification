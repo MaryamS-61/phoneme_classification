{
  "nbformat": 4,
  "nbformat_minor": 0,
  "metadata": {
    "colab": {
      "provenance": []
    },
    "kernelspec": {
      "name": "python3",
      "display_name": "Python 3"
    },
    "language_info": {
      "name": "python"
    }
  },
  "cells": [
    {
      "cell_type": "code",
      "execution_count": 3,
      "metadata": {
        "colab": {
          "base_uri": "https://localhost:8080/"
        },
        "id": "RVQ00d2Bd3Wu",
        "outputId": "c63532c2-df27-4dd1-9867-721efe0403af"
      },
      "outputs": [
        {
          "output_type": "stream",
          "name": "stdout",
          "text": [
            "Mounted at /content/drive\n"
          ]
        }
      ],
      "source": [
        "from google.colab import drive\n",
        "drive.mount('/content/drive')"
      ]
    },
    {
      "cell_type": "code",
      "source": [
        "import librosa\n",
        "import numpy as np\n",
        "import pandas as pd\n",
        "\n",
        "def calculate_db_magnitude(signal, rate):\n",
        "    '''\n",
        "    Computes and returns the dB magnitude of the audio signal.\n",
        "    '''\n",
        "    D = librosa.stft(signal)\n",
        "    S = np.abs(D)\n",
        "    db_magnitude = librosa.amplitude_to_db(S, ref=np.max)\n",
        "    return db_magnitude\n",
        "\n",
        "# Load the CSV file containing audio file information\n",
        "input_csv_file = '/content/drive/MyDrive/Speech Emotion Detection/1-CSV/Crema.csv'\n",
        "#output_csv_file = 'output.csv'\n",
        "\n",
        "# Read the CSV file into a DataFrame\n",
        "df = pd.read_csv(input_csv_file)\n",
        "\n",
        "# Create lists to store the calculated dB magnitudes and other information\n",
        "db_magnitudes = []\n",
        "\n",
        "# Iterate through rows of the DataFrame\n",
        "for index, row in df.iterrows():\n",
        "    filepath = row['Filepath']\n",
        "    try:\n",
        "        # Load the audio file using librosa\n",
        "        signal, rate = librosa.load(filepath, sr=44100)\n",
        "        # Calculate the dB magnitude\n",
        "        db_magnitude = calculate_db_magnitude(signal, rate)\n",
        "        db_magnitudes.append(db_magnitude)\n",
        "    except Exception as e:\n",
        "        print(f\"Error processing audio file at index {index}: {str(e)}\")\n",
        "        db_magnitudes.append(None)\n",
        "\n",
        "# Add the calculated dB magnitudes as a new column in the DataFrame\n",
        "df['dB_Magnitude'] = db_magnitudes\n",
        "\n",
        "# Save the DataFrame with the dB magnitudes to a new CSV file\n",
        "df.to_csv('/content/drive/MyDrive/Speech Emotion Detection/output.csv', index=False)\n",
        "\n",
        "\n"
      ],
      "metadata": {
        "id": "BTpDjGNPl-i_"
      },
      "execution_count": 4,
      "outputs": []
    }
  ]
}