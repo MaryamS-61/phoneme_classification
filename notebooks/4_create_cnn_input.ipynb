{
 "cells": [
  {
   "cell_type": "code",
   "execution_count": 2,
   "id": "6c86bba9-0793-48a0-8829-f0ecee8e7b77",
   "metadata": {},
   "outputs": [],
   "source": [
    "import pandas as pd\n",
    "import numpy as np\n",
    "import matplotlib.pyplot as plt\n",
    "import pickle\n",
    "\n",
    "from sklearn.preprocessing import LabelEncoder\n",
    "from sklearn.model_selection import train_test_split\n",
    "#from keras.models import Sequential\n",
    "#from keras.layers import Conv1D"
   ]
  },
  {
   "cell_type": "code",
   "execution_count": 3,
   "id": "f6df4a80-cf35-47e1-b334-e873f8e451c2",
   "metadata": {},
   "outputs": [
    {
     "data": {
      "text/html": [
       "<div>\n",
       "<style scoped>\n",
       "    .dataframe tbody tr th:only-of-type {\n",
       "        vertical-align: middle;\n",
       "    }\n",
       "\n",
       "    .dataframe tbody tr th {\n",
       "        vertical-align: top;\n",
       "    }\n",
       "\n",
       "    .dataframe thead th {\n",
       "        text-align: right;\n",
       "    }\n",
       "</style>\n",
       "<table border=\"1\" class=\"dataframe\">\n",
       "  <thead>\n",
       "    <tr style=\"text-align: right;\">\n",
       "      <th></th>\n",
       "      <th>Label</th>\n",
       "      <th>FileNames</th>\n",
       "      <th>Spectrograms</th>\n",
       "    </tr>\n",
       "  </thead>\n",
       "  <tbody>\n",
       "    <tr>\n",
       "      <th>0</th>\n",
       "      <td>SAD</td>\n",
       "      <td>1081_ITH_SAD_XX.wav</td>\n",
       "      <td>[[-50.85168, -37.53515, -48.915, -62.227776, -...</td>\n",
       "    </tr>\n",
       "    <tr>\n",
       "      <th>1</th>\n",
       "      <td>ANG</td>\n",
       "      <td>1081_IEO_ANG_LO.wav</td>\n",
       "      <td>[[-47.93593, -80.0, -53.17414, -56.48402, -52....</td>\n",
       "    </tr>\n",
       "    <tr>\n",
       "      <th>2</th>\n",
       "      <td>NEU</td>\n",
       "      <td>1079_TSI_NEU_XX.wav</td>\n",
       "      <td>[[-38.109177, -48.644703, -53.782932, -46.1585...</td>\n",
       "    </tr>\n",
       "    <tr>\n",
       "      <th>3</th>\n",
       "      <td>HAP</td>\n",
       "      <td>1080_IEO_HAP_LO.wav</td>\n",
       "      <td>[[-59.201244, -68.94307, -51.2046, -48.89463, ...</td>\n",
       "    </tr>\n",
       "    <tr>\n",
       "      <th>4</th>\n",
       "      <td>SAD</td>\n",
       "      <td>1079_IEO_SAD_HI.wav</td>\n",
       "      <td>[[-40.663616, -47.30068, -43.389248, -35.18830...</td>\n",
       "    </tr>\n",
       "    <tr>\n",
       "      <th>...</th>\n",
       "      <td>...</td>\n",
       "      <td>...</td>\n",
       "      <td>...</td>\n",
       "    </tr>\n",
       "    <tr>\n",
       "      <th>7437</th>\n",
       "      <td>HAP</td>\n",
       "      <td>1007_IWL_HAP_XX.wav</td>\n",
       "      <td>[[-48.35008, -59.10016, -61.12514, -56.870613,...</td>\n",
       "    </tr>\n",
       "    <tr>\n",
       "      <th>7438</th>\n",
       "      <td>DIS</td>\n",
       "      <td>1008_IEO_DIS_LO.wav</td>\n",
       "      <td>[[-54.37221, -53.520206, -46.53382, -50.349686...</td>\n",
       "    </tr>\n",
       "    <tr>\n",
       "      <th>7439</th>\n",
       "      <td>SAD</td>\n",
       "      <td>1006_TSI_SAD_XX.wav</td>\n",
       "      <td>[[-31.927896, -34.087387, -80.0, -60.489388, -...</td>\n",
       "    </tr>\n",
       "    <tr>\n",
       "      <th>7440</th>\n",
       "      <td>ANG</td>\n",
       "      <td>1006_TAI_ANG_XX.wav</td>\n",
       "      <td>[[-48.0942, -51.274445, -70.236664, -59.672203...</td>\n",
       "    </tr>\n",
       "    <tr>\n",
       "      <th>7441</th>\n",
       "      <td>HAP</td>\n",
       "      <td>1006_TSI_HAP_XX.wav</td>\n",
       "      <td>[[-54.382324, -50.112206, -53.515724, -68.2540...</td>\n",
       "    </tr>\n",
       "  </tbody>\n",
       "</table>\n",
       "<p>7442 rows × 3 columns</p>\n",
       "</div>"
      ],
      "text/plain": [
       "     Label            FileNames  \\\n",
       "0      SAD  1081_ITH_SAD_XX.wav   \n",
       "1      ANG  1081_IEO_ANG_LO.wav   \n",
       "2      NEU  1079_TSI_NEU_XX.wav   \n",
       "3      HAP  1080_IEO_HAP_LO.wav   \n",
       "4      SAD  1079_IEO_SAD_HI.wav   \n",
       "...    ...                  ...   \n",
       "7437   HAP  1007_IWL_HAP_XX.wav   \n",
       "7438   DIS  1008_IEO_DIS_LO.wav   \n",
       "7439   SAD  1006_TSI_SAD_XX.wav   \n",
       "7440   ANG  1006_TAI_ANG_XX.wav   \n",
       "7441   HAP  1006_TSI_HAP_XX.wav   \n",
       "\n",
       "                                           Spectrograms  \n",
       "0     [[-50.85168, -37.53515, -48.915, -62.227776, -...  \n",
       "1     [[-47.93593, -80.0, -53.17414, -56.48402, -52....  \n",
       "2     [[-38.109177, -48.644703, -53.782932, -46.1585...  \n",
       "3     [[-59.201244, -68.94307, -51.2046, -48.89463, ...  \n",
       "4     [[-40.663616, -47.30068, -43.389248, -35.18830...  \n",
       "...                                                 ...  \n",
       "7437  [[-48.35008, -59.10016, -61.12514, -56.870613,...  \n",
       "7438  [[-54.37221, -53.520206, -46.53382, -50.349686...  \n",
       "7439  [[-31.927896, -34.087387, -80.0, -60.489388, -...  \n",
       "7440  [[-48.0942, -51.274445, -70.236664, -59.672203...  \n",
       "7441  [[-54.382324, -50.112206, -53.515724, -68.2540...  \n",
       "\n",
       "[7442 rows x 3 columns]"
      ]
     },
     "execution_count": 3,
     "metadata": {},
     "output_type": "execute_result"
    }
   ],
   "source": [
    "# Load data from the pickle file into a DataFrame\n",
    "with open('/Users/maryam/code/MaryamS-61/phoneme_classification/raw_data/Crema_Spectrogram_8000.pkl', 'rb') as file:\n",
    "    loaded_df = pickle.load(file)\n",
    "loaded_df"
   ]
  },
  {
   "cell_type": "code",
   "execution_count": 4,
   "id": "4c360393-5c90-4ecc-a4ee-178a1281e297",
   "metadata": {},
   "outputs": [],
   "source": [
    "x = loaded_df['Spectrograms']"
   ]
  },
  {
   "cell_type": "markdown",
   "id": "a33182c7-a05e-435b-bac5-20dd0f45647d",
   "metadata": {},
   "source": [
    "# Normalizing"
   ]
  },
  {
   "cell_type": "code",
   "execution_count": 5,
   "id": "b97fe926-5492-4746-9633-10de8e29ea07",
   "metadata": {},
   "outputs": [],
   "source": [
    "original_min = np.min([matrix.min() for matrix in x])\n",
    "original_max = np.max([matrix.max() for matrix in x])\n",
    "\n",
    "# Define the new min and max values\n",
    "new_min = 0\n",
    "new_max = 1\n",
    "\n",
    "# Normalize the data to the new range\n",
    "normalized_x = ((x - original_min) / (original_max - original_min)) * (new_max - new_min) + new_min"
   ]
  },
  {
   "cell_type": "code",
   "execution_count": 8,
   "id": "50ba8195-2eab-4b77-a3f8-12aa51d2bd64",
   "metadata": {},
   "outputs": [
    {
     "data": {
      "text/plain": [
       "(1025, 38)"
      ]
     },
     "execution_count": 8,
     "metadata": {},
     "output_type": "execute_result"
    }
   ],
   "source": [
    "normalized_x[0].shape"
   ]
  },
  {
   "cell_type": "markdown",
   "id": "bc65611f-5799-4807-bccc-965211688023",
   "metadata": {},
   "source": [
    "# Zero padding"
   ]
  },
  {
   "cell_type": "code",
   "execution_count": 5,
   "id": "f14f5434-2c7b-456a-9530-b5298c10ec09",
   "metadata": {},
   "outputs": [],
   "source": [
    "# Step 1: Find the maximum width\n",
    "max_width = max(matrix.shape[1] for matrix in normalized_x)"
   ]
  },
  {
   "cell_type": "code",
   "execution_count": 6,
   "id": "b332905c-6557-4fc1-aad5-9ec678c6968d",
   "metadata": {},
   "outputs": [],
   "source": [
    "# Step 2: Zero-pad the sequences to the maximum width\n",
    "zero_padded_matrices = [np.pad(matrix, ((0, 0), (0, max_width - matrix.shape[1])), 'constant') for matrix in normalized_x]\n"
   ]
  },
  {
   "cell_type": "code",
   "execution_count": 7,
   "id": "95df298d-aab7-4bd5-aea1-7d23d76d6d0e",
   "metadata": {},
   "outputs": [],
   "source": [
    "x_normalized_zero_padded = pd.Series(zero_padded_matrices)"
   ]
  },
  {
   "cell_type": "code",
   "execution_count": 8,
   "id": "a6d713e1-a562-4ec5-b22b-5dec0307630b",
   "metadata": {},
   "outputs": [],
   "source": [
    "x_array_normalized_zero_padded = np.stack(x_normalized_zero_padded)"
   ]
  },
  {
   "cell_type": "code",
   "execution_count": 9,
   "id": "1dec8d5c-4310-4f5d-aaa4-ef40e5097582",
   "metadata": {},
   "outputs": [
    {
     "data": {
      "text/plain": [
       "(7442, 1025, 79)"
      ]
     },
     "execution_count": 9,
     "metadata": {},
     "output_type": "execute_result"
    }
   ],
   "source": [
    "x_array_normalized_zero_padded.shape"
   ]
  },
  {
   "cell_type": "code",
   "execution_count": 10,
   "id": "af25d8b5-4e44-4c83-b829-064508959349",
   "metadata": {},
   "outputs": [],
   "source": [
    "# Define the number of rows and columns to add around the images\n",
    "pad_rows = 3\n",
    "pad_cols = 3\n",
    "\n",
    "# Calculate the new shape of the zero-padded array\n",
    "new_shape = (\n",
    "    x_array_normalized_zero_padded.shape[0],\n",
    "    x_array_normalized_zero_padded.shape[1] + 2 * pad_rows,\n",
    "    x_array_normalized_zero_padded.shape[2] + 2 * pad_cols\n",
    ")\n",
    "\n",
    "# Create a zero-padded array with the new shape\n",
    "zero_padded_array = np.zeros(new_shape)\n",
    "\n",
    "# Copy the original array into the center of the zero-padded array\n",
    "zero_padded_array[:, pad_rows:-pad_rows, pad_cols:-pad_cols] = x_array_normalized_zero_padded"
   ]
  },
  {
   "cell_type": "code",
   "execution_count": 11,
   "id": "944b1b81-a2cb-4a10-9a76-8223f2e1035f",
   "metadata": {},
   "outputs": [
    {
     "data": {
      "text/plain": [
       "(7442, 1031, 85)"
      ]
     },
     "execution_count": 11,
     "metadata": {},
     "output_type": "execute_result"
    }
   ],
   "source": [
    "zero_padded_array.shape"
   ]
  },
  {
   "cell_type": "code",
   "execution_count": 12,
   "id": "ec22536b-90e5-462b-b9ff-55b865b85be1",
   "metadata": {},
   "outputs": [
    {
     "data": {
      "text/plain": [
       "<matplotlib.collections.QuadMesh at 0x13f66d990>"
      ]
     },
     "execution_count": 12,
     "metadata": {},
     "output_type": "execute_result"
    },
    {
     "data": {
      "image/png": "[encoded data removed]",
      "text/plain": [
       "<Figure size 640x480 with 1 Axes>"
      ]
     },
     "metadata": {},
     "output_type": "display_data"
    }
   ],
   "source": [
    "import librosa\n",
    "librosa.display.specshow(zero_padded_array[1000], sr=8000, x_axis='time', y_axis='log')"
   ]
  },
  {
   "cell_type": "code",
   "execution_count": 14,
   "id": "b740ad42-ef74-4962-ba52-9200411d0008",
   "metadata": {},
   "outputs": [],
   "source": [
    "loaded_df['SpecInputCNN'] = [matrice for matrice in zero_padded_array]"
   ]
  },
  {
   "cell_type": "markdown",
   "id": "060cc932-7d0a-4995-b94a-efc966e2f086",
   "metadata": {},
   "source": [
    "# Encoding target"
   ]
  },
  {
   "cell_type": "code",
   "execution_count": 22,
   "id": "35d25705-aa3b-4917-8573-efaa41cf1cba",
   "metadata": {},
   "outputs": [
    {
     "name": "stdout",
     "output_type": "stream",
     "text": [
      "(7442, 6)\n"
     ]
    }
   ],
   "source": [
    "from sklearn.preprocessing import OneHotEncoder\n",
    "\n",
    "# Your training labels as a list of strings\n",
    "labels = loaded_df['Label'].unique()\n",
    "\n",
    "# Step 1: Label Encoding (Convert labels to unique integers)\n",
    "label_encoder = LabelEncoder()\n",
    "integer_encoded = label_encoder.fit_transform(loaded_df['Label'])\n",
    "integer_encoded.shape\n",
    "\n",
    "# Step 2: One-Hot Encoding (Convert integers to one-hot encoded format)\n",
    "onehot_encoder = OneHotEncoder(sparse_output=False)\n",
    "integer_encoded = integer_encoded.reshape(-1, 1)\n",
    "onehot_encoded_y = onehot_encoder.fit_transform(integer_encoded)\n",
    "\n",
    "# The 'onehot_encoded' variable now contains one-hot encoded training labels\n",
    "print(onehot_encoded_y.shape)"
   ]
  },
  {
   "cell_type": "code",
   "execution_count": 24,
   "id": "db5c2d37-c931-4447-a693-83c8ea6882d6",
   "metadata": {},
   "outputs": [],
   "source": [
    "loaded_df['EncodedLabels'] = [label for label in onehot_encoded_y]"
   ]
  },
  {
   "cell_type": "code",
   "execution_count": 28,
   "id": "b46654da-248f-4d5b-b285-24f607dfcccd",
   "metadata": {},
   "outputs": [
    {
     "data": {
      "text/html": [
       "<div>\n",
       "<style scoped>\n",
       "    .dataframe tbody tr th:only-of-type {\n",
       "        vertical-align: middle;\n",
       "    }\n",
       "\n",
       "    .dataframe tbody tr th {\n",
       "        vertical-align: top;\n",
       "    }\n",
       "\n",
       "    .dataframe thead th {\n",
       "        text-align: right;\n",
       "    }\n",
       "</style>\n",
       "<table border=\"1\" class=\"dataframe\">\n",
       "  <thead>\n",
       "    <tr style=\"text-align: right;\">\n",
       "      <th></th>\n",
       "      <th>Label</th>\n",
       "      <th>FileNames</th>\n",
       "      <th>Spectrograms</th>\n",
       "      <th>SpecInputCNN</th>\n",
       "      <th>EncodedLabels</th>\n",
       "    </tr>\n",
       "  </thead>\n",
       "  <tbody>\n",
       "    <tr>\n",
       "      <th>0</th>\n",
       "      <td>SAD</td>\n",
       "      <td>1081_ITH_SAD_XX.wav</td>\n",
       "      <td>[[-50.85168, -37.53515, -48.915, -62.227776, -...</td>\n",
       "      <td>[[0.0, 0.0, 0.0, 0.0, 0.0, 0.0, 0.0, 0.0, 0.0,...</td>\n",
       "      <td>[0.0, 0.0, 0.0, 0.0, 0.0, 1.0]</td>\n",
       "    </tr>\n",
       "    <tr>\n",
       "      <th>1</th>\n",
       "      <td>ANG</td>\n",
       "      <td>1081_IEO_ANG_LO.wav</td>\n",
       "      <td>[[-47.93593, -80.0, -53.17414, -56.48402, -52....</td>\n",
       "      <td>[[0.0, 0.0, 0.0, 0.0, 0.0, 0.0, 0.0, 0.0, 0.0,...</td>\n",
       "      <td>[1.0, 0.0, 0.0, 0.0, 0.0, 0.0]</td>\n",
       "    </tr>\n",
       "    <tr>\n",
       "      <th>2</th>\n",
       "      <td>NEU</td>\n",
       "      <td>1079_TSI_NEU_XX.wav</td>\n",
       "      <td>[[-38.109177, -48.644703, -53.782932, -46.1585...</td>\n",
       "      <td>[[0.0, 0.0, 0.0, 0.0, 0.0, 0.0, 0.0, 0.0, 0.0,...</td>\n",
       "      <td>[0.0, 0.0, 0.0, 0.0, 1.0, 0.0]</td>\n",
       "    </tr>\n",
       "    <tr>\n",
       "      <th>3</th>\n",
       "      <td>HAP</td>\n",
       "      <td>1080_IEO_HAP_LO.wav</td>\n",
       "      <td>[[-59.201244, -68.94307, -51.2046, -48.89463, ...</td>\n",
       "      <td>[[0.0, 0.0, 0.0, 0.0, 0.0, 0.0, 0.0, 0.0, 0.0,...</td>\n",
       "      <td>[0.0, 0.0, 0.0, 1.0, 0.0, 0.0]</td>\n",
       "    </tr>\n",
       "    <tr>\n",
       "      <th>4</th>\n",
       "      <td>SAD</td>\n",
       "      <td>1079_IEO_SAD_HI.wav</td>\n",
       "      <td>[[-40.663616, -47.30068, -43.389248, -35.18830...</td>\n",
       "      <td>[[0.0, 0.0, 0.0, 0.0, 0.0, 0.0, 0.0, 0.0, 0.0,...</td>\n",
       "      <td>[0.0, 0.0, 0.0, 0.0, 0.0, 1.0]</td>\n",
       "    </tr>\n",
       "    <tr>\n",
       "      <th>...</th>\n",
       "      <td>...</td>\n",
       "      <td>...</td>\n",
       "      <td>...</td>\n",
       "      <td>...</td>\n",
       "      <td>...</td>\n",
       "    </tr>\n",
       "    <tr>\n",
       "      <th>7437</th>\n",
       "      <td>HAP</td>\n",
       "      <td>1007_IWL_HAP_XX.wav</td>\n",
       "      <td>[[-48.35008, -59.10016, -61.12514, -56.870613,...</td>\n",
       "      <td>[[0.0, 0.0, 0.0, 0.0, 0.0, 0.0, 0.0, 0.0, 0.0,...</td>\n",
       "      <td>[0.0, 0.0, 0.0, 1.0, 0.0, 0.0]</td>\n",
       "    </tr>\n",
       "    <tr>\n",
       "      <th>7438</th>\n",
       "      <td>DIS</td>\n",
       "      <td>1008_IEO_DIS_LO.wav</td>\n",
       "      <td>[[-54.37221, -53.520206, -46.53382, -50.349686...</td>\n",
       "      <td>[[0.0, 0.0, 0.0, 0.0, 0.0, 0.0, 0.0, 0.0, 0.0,...</td>\n",
       "      <td>[0.0, 1.0, 0.0, 0.0, 0.0, 0.0]</td>\n",
       "    </tr>\n",
       "    <tr>\n",
       "      <th>7439</th>\n",
       "      <td>SAD</td>\n",
       "      <td>1006_TSI_SAD_XX.wav</td>\n",
       "      <td>[[-31.927896, -34.087387, -80.0, -60.489388, -...</td>\n",
       "      <td>[[0.0, 0.0, 0.0, 0.0, 0.0, 0.0, 0.0, 0.0, 0.0,...</td>\n",
       "      <td>[0.0, 0.0, 0.0, 0.0, 0.0, 1.0]</td>\n",
       "    </tr>\n",
       "    <tr>\n",
       "      <th>7440</th>\n",
       "      <td>ANG</td>\n",
       "      <td>1006_TAI_ANG_XX.wav</td>\n",
       "      <td>[[-48.0942, -51.274445, -70.236664, -59.672203...</td>\n",
       "      <td>[[0.0, 0.0, 0.0, 0.0, 0.0, 0.0, 0.0, 0.0, 0.0,...</td>\n",
       "      <td>[1.0, 0.0, 0.0, 0.0, 0.0, 0.0]</td>\n",
       "    </tr>\n",
       "    <tr>\n",
       "      <th>7441</th>\n",
       "      <td>HAP</td>\n",
       "      <td>1006_TSI_HAP_XX.wav</td>\n",
       "      <td>[[-54.382324, -50.112206, -53.515724, -68.2540...</td>\n",
       "      <td>[[0.0, 0.0, 0.0, 0.0, 0.0, 0.0, 0.0, 0.0, 0.0,...</td>\n",
       "      <td>[0.0, 0.0, 0.0, 1.0, 0.0, 0.0]</td>\n",
       "    </tr>\n",
       "  </tbody>\n",
       "</table>\n",
       "<p>7442 rows × 5 columns</p>\n",
       "</div>"
      ],
      "text/plain": [
       "     Label            FileNames  \\\n",
       "0      SAD  1081_ITH_SAD_XX.wav   \n",
       "1      ANG  1081_IEO_ANG_LO.wav   \n",
       "2      NEU  1079_TSI_NEU_XX.wav   \n",
       "3      HAP  1080_IEO_HAP_LO.wav   \n",
       "4      SAD  1079_IEO_SAD_HI.wav   \n",
       "...    ...                  ...   \n",
       "7437   HAP  1007_IWL_HAP_XX.wav   \n",
       "7438   DIS  1008_IEO_DIS_LO.wav   \n",
       "7439   SAD  1006_TSI_SAD_XX.wav   \n",
       "7440   ANG  1006_TAI_ANG_XX.wav   \n",
       "7441   HAP  1006_TSI_HAP_XX.wav   \n",
       "\n",
       "                                           Spectrograms  \\\n",
       "0     [[-50.85168, -37.53515, -48.915, -62.227776, -...   \n",
       "1     [[-47.93593, -80.0, -53.17414, -56.48402, -52....   \n",
       "2     [[-38.109177, -48.644703, -53.782932, -46.1585...   \n",
       "3     [[-59.201244, -68.94307, -51.2046, -48.89463, ...   \n",
       "4     [[-40.663616, -47.30068, -43.389248, -35.18830...   \n",
       "...                                                 ...   \n",
       "7437  [[-48.35008, -59.10016, -61.12514, -56.870613,...   \n",
       "7438  [[-54.37221, -53.520206, -46.53382, -50.349686...   \n",
       "7439  [[-31.927896, -34.087387, -80.0, -60.489388, -...   \n",
       "7440  [[-48.0942, -51.274445, -70.236664, -59.672203...   \n",
       "7441  [[-54.382324, -50.112206, -53.515724, -68.2540...   \n",
       "\n",
       "                                           SpecInputCNN  \\\n",
       "0     [[0.0, 0.0, 0.0, 0.0, 0.0, 0.0, 0.0, 0.0, 0.0,...   \n",
       "1     [[0.0, 0.0, 0.0, 0.0, 0.0, 0.0, 0.0, 0.0, 0.0,...   \n",
       "2     [[0.0, 0.0, 0.0, 0.0, 0.0, 0.0, 0.0, 0.0, 0.0,...   \n",
       "3     [[0.0, 0.0, 0.0, 0.0, 0.0, 0.0, 0.0, 0.0, 0.0,...   \n",
       "4     [[0.0, 0.0, 0.0, 0.0, 0.0, 0.0, 0.0, 0.0, 0.0,...   \n",
       "...                                                 ...   \n",
       "7437  [[0.0, 0.0, 0.0, 0.0, 0.0, 0.0, 0.0, 0.0, 0.0,...   \n",
       "7438  [[0.0, 0.0, 0.0, 0.0, 0.0, 0.0, 0.0, 0.0, 0.0,...   \n",
       "7439  [[0.0, 0.0, 0.0, 0.0, 0.0, 0.0, 0.0, 0.0, 0.0,...   \n",
       "7440  [[0.0, 0.0, 0.0, 0.0, 0.0, 0.0, 0.0, 0.0, 0.0,...   \n",
       "7441  [[0.0, 0.0, 0.0, 0.0, 0.0, 0.0, 0.0, 0.0, 0.0,...   \n",
       "\n",
       "                       EncodedLabels  \n",
       "0     [0.0, 0.0, 0.0, 0.0, 0.0, 1.0]  \n",
       "1     [1.0, 0.0, 0.0, 0.0, 0.0, 0.0]  \n",
       "2     [0.0, 0.0, 0.0, 0.0, 1.0, 0.0]  \n",
       "3     [0.0, 0.0, 0.0, 1.0, 0.0, 0.0]  \n",
       "4     [0.0, 0.0, 0.0, 0.0, 0.0, 1.0]  \n",
       "...                              ...  \n",
       "7437  [0.0, 0.0, 0.0, 1.0, 0.0, 0.0]  \n",
       "7438  [0.0, 1.0, 0.0, 0.0, 0.0, 0.0]  \n",
       "7439  [0.0, 0.0, 0.0, 0.0, 0.0, 1.0]  \n",
       "7440  [1.0, 0.0, 0.0, 0.0, 0.0, 0.0]  \n",
       "7441  [0.0, 0.0, 0.0, 1.0, 0.0, 0.0]  \n",
       "\n",
       "[7442 rows x 5 columns]"
      ]
     },
     "execution_count": 28,
     "metadata": {},
     "output_type": "execute_result"
    }
   ],
   "source": [
    "loaded_df"
   ]
  },
  {
   "cell_type": "code",
   "execution_count": 30,
   "id": "323057b4-1e51-4eb4-bb31-17ca665c966b",
   "metadata": {},
   "outputs": [],
   "source": [
    "loaded_df = loaded_df.drop('Spectrograms', axis=1)"
   ]
  },
  {
   "cell_type": "code",
   "execution_count": 32,
   "id": "6dfcd040-d178-4715-ad08-01feb30d26de",
   "metadata": {},
   "outputs": [],
   "source": [
    "with open('Crema_spec_cnn_input.pkl', 'wb') as file:\n",
    "    pickle.dump(loaded_df, file)\n"
   ]
  }
 ],
 "metadata": {
  "kernelspec": {
   "display_name": "Python 3 (ipykernel)",
   "language": "python",
   "name": "python3"
  },
  "language_info": {
   "codemirror_mode": {
    "name": "ipython",
    "version": 3
   },
   "file_extension": ".py",
   "mimetype": "text/x-python",
   "name": "python",
   "nbconvert_exporter": "python",
   "pygments_lexer": "ipython3",
   "version": "3.10.6"
  }
 },
 "nbformat": 4,
 "nbformat_minor": 5
}
