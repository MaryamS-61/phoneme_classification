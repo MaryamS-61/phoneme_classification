{
 "cells": [
  {
   "cell_type": "code",
   "execution_count": 1,
   "id": "6c86bba9-0793-48a0-8829-f0ecee8e7b77",
   "metadata": {},
   "outputs": [],
   "source": [
    "import numpy as np\n",
    "import pandas as pd\n",
    "import tensorflow as tf\n",
    "import matplotlib.pyplot as plt\n",
    "import pickle\n",
    "\n",
    "from sklearn.preprocessing import LabelEncoder\n",
    "from sklearn.model_selection import train_test_split\n",
    "from tensorflow.keras import layers, models"
   ]
  },
  {
   "cell_type": "code",
   "execution_count": 2,
   "id": "f6df4a80-cf35-47e1-b334-e873f8e451c2",
   "metadata": {},
   "outputs": [
    {
     "data": {
      "text/html": [
       "<div>\n",
       "<style scoped>\n",
       "    .dataframe tbody tr th:only-of-type {\n",
       "        vertical-align: middle;\n",
       "    }\n",
       "\n",
       "    .dataframe tbody tr th {\n",
       "        vertical-align: top;\n",
       "    }\n",
       "\n",
       "    .dataframe thead th {\n",
       "        text-align: right;\n",
       "    }\n",
       "</style>\n",
       "<table border=\"1\" class=\"dataframe\">\n",
       "  <thead>\n",
       "    <tr style=\"text-align: right;\">\n",
       "      <th></th>\n",
       "      <th>Label</th>\n",
       "      <th>FileNames</th>\n",
       "      <th>SpecInputCNN</th>\n",
       "      <th>EncodedLabels</th>\n",
       "    </tr>\n",
       "  </thead>\n",
       "  <tbody>\n",
       "    <tr>\n",
       "      <th>0</th>\n",
       "      <td>SAD</td>\n",
       "      <td>1081_ITH_SAD_XX.wav</td>\n",
       "      <td>[[0.0, 0.0, 0.0, 0.0, 0.0, 0.0, 0.0, 0.0, 0.0,...</td>\n",
       "      <td>[0.0, 0.0, 0.0, 0.0, 0.0, 1.0]</td>\n",
       "    </tr>\n",
       "    <tr>\n",
       "      <th>1</th>\n",
       "      <td>ANG</td>\n",
       "      <td>1081_IEO_ANG_LO.wav</td>\n",
       "      <td>[[0.0, 0.0, 0.0, 0.0, 0.0, 0.0, 0.0, 0.0, 0.0,...</td>\n",
       "      <td>[1.0, 0.0, 0.0, 0.0, 0.0, 0.0]</td>\n",
       "    </tr>\n",
       "    <tr>\n",
       "      <th>2</th>\n",
       "      <td>NEU</td>\n",
       "      <td>1079_TSI_NEU_XX.wav</td>\n",
       "      <td>[[0.0, 0.0, 0.0, 0.0, 0.0, 0.0, 0.0, 0.0, 0.0,...</td>\n",
       "      <td>[0.0, 0.0, 0.0, 0.0, 1.0, 0.0]</td>\n",
       "    </tr>\n",
       "    <tr>\n",
       "      <th>3</th>\n",
       "      <td>HAP</td>\n",
       "      <td>1080_IEO_HAP_LO.wav</td>\n",
       "      <td>[[0.0, 0.0, 0.0, 0.0, 0.0, 0.0, 0.0, 0.0, 0.0,...</td>\n",
       "      <td>[0.0, 0.0, 0.0, 1.0, 0.0, 0.0]</td>\n",
       "    </tr>\n",
       "    <tr>\n",
       "      <th>4</th>\n",
       "      <td>SAD</td>\n",
       "      <td>1079_IEO_SAD_HI.wav</td>\n",
       "      <td>[[0.0, 0.0, 0.0, 0.0, 0.0, 0.0, 0.0, 0.0, 0.0,...</td>\n",
       "      <td>[0.0, 0.0, 0.0, 0.0, 0.0, 1.0]</td>\n",
       "    </tr>\n",
       "    <tr>\n",
       "      <th>...</th>\n",
       "      <td>...</td>\n",
       "      <td>...</td>\n",
       "      <td>...</td>\n",
       "      <td>...</td>\n",
       "    </tr>\n",
       "    <tr>\n",
       "      <th>7437</th>\n",
       "      <td>HAP</td>\n",
       "      <td>1007_IWL_HAP_XX.wav</td>\n",
       "      <td>[[0.0, 0.0, 0.0, 0.0, 0.0, 0.0, 0.0, 0.0, 0.0,...</td>\n",
       "      <td>[0.0, 0.0, 0.0, 1.0, 0.0, 0.0]</td>\n",
       "    </tr>\n",
       "    <tr>\n",
       "      <th>7438</th>\n",
       "      <td>DIS</td>\n",
       "      <td>1008_IEO_DIS_LO.wav</td>\n",
       "      <td>[[0.0, 0.0, 0.0, 0.0, 0.0, 0.0, 0.0, 0.0, 0.0,...</td>\n",
       "      <td>[0.0, 1.0, 0.0, 0.0, 0.0, 0.0]</td>\n",
       "    </tr>\n",
       "    <tr>\n",
       "      <th>7439</th>\n",
       "      <td>SAD</td>\n",
       "      <td>1006_TSI_SAD_XX.wav</td>\n",
       "      <td>[[0.0, 0.0, 0.0, 0.0, 0.0, 0.0, 0.0, 0.0, 0.0,...</td>\n",
       "      <td>[0.0, 0.0, 0.0, 0.0, 0.0, 1.0]</td>\n",
       "    </tr>\n",
       "    <tr>\n",
       "      <th>7440</th>\n",
       "      <td>ANG</td>\n",
       "      <td>1006_TAI_ANG_XX.wav</td>\n",
       "      <td>[[0.0, 0.0, 0.0, 0.0, 0.0, 0.0, 0.0, 0.0, 0.0,...</td>\n",
       "      <td>[1.0, 0.0, 0.0, 0.0, 0.0, 0.0]</td>\n",
       "    </tr>\n",
       "    <tr>\n",
       "      <th>7441</th>\n",
       "      <td>HAP</td>\n",
       "      <td>1006_TSI_HAP_XX.wav</td>\n",
       "      <td>[[0.0, 0.0, 0.0, 0.0, 0.0, 0.0, 0.0, 0.0, 0.0,...</td>\n",
       "      <td>[0.0, 0.0, 0.0, 1.0, 0.0, 0.0]</td>\n",
       "    </tr>\n",
       "  </tbody>\n",
       "</table>\n",
       "<p>7442 rows × 4 columns</p>\n",
       "</div>"
      ],
      "text/plain": [
       "     Label            FileNames  \\\n",
       "0      SAD  1081_ITH_SAD_XX.wav   \n",
       "1      ANG  1081_IEO_ANG_LO.wav   \n",
       "2      NEU  1079_TSI_NEU_XX.wav   \n",
       "3      HAP  1080_IEO_HAP_LO.wav   \n",
       "4      SAD  1079_IEO_SAD_HI.wav   \n",
       "...    ...                  ...   \n",
       "7437   HAP  1007_IWL_HAP_XX.wav   \n",
       "7438   DIS  1008_IEO_DIS_LO.wav   \n",
       "7439   SAD  1006_TSI_SAD_XX.wav   \n",
       "7440   ANG  1006_TAI_ANG_XX.wav   \n",
       "7441   HAP  1006_TSI_HAP_XX.wav   \n",
       "\n",
       "                                           SpecInputCNN  \\\n",
       "0     [[0.0, 0.0, 0.0, 0.0, 0.0, 0.0, 0.0, 0.0, 0.0,...   \n",
       "1     [[0.0, 0.0, 0.0, 0.0, 0.0, 0.0, 0.0, 0.0, 0.0,...   \n",
       "2     [[0.0, 0.0, 0.0, 0.0, 0.0, 0.0, 0.0, 0.0, 0.0,...   \n",
       "3     [[0.0, 0.0, 0.0, 0.0, 0.0, 0.0, 0.0, 0.0, 0.0,...   \n",
       "4     [[0.0, 0.0, 0.0, 0.0, 0.0, 0.0, 0.0, 0.0, 0.0,...   \n",
       "...                                                 ...   \n",
       "7437  [[0.0, 0.0, 0.0, 0.0, 0.0, 0.0, 0.0, 0.0, 0.0,...   \n",
       "7438  [[0.0, 0.0, 0.0, 0.0, 0.0, 0.0, 0.0, 0.0, 0.0,...   \n",
       "7439  [[0.0, 0.0, 0.0, 0.0, 0.0, 0.0, 0.0, 0.0, 0.0,...   \n",
       "7440  [[0.0, 0.0, 0.0, 0.0, 0.0, 0.0, 0.0, 0.0, 0.0,...   \n",
       "7441  [[0.0, 0.0, 0.0, 0.0, 0.0, 0.0, 0.0, 0.0, 0.0,...   \n",
       "\n",
       "                       EncodedLabels  \n",
       "0     [0.0, 0.0, 0.0, 0.0, 0.0, 1.0]  \n",
       "1     [1.0, 0.0, 0.0, 0.0, 0.0, 0.0]  \n",
       "2     [0.0, 0.0, 0.0, 0.0, 1.0, 0.0]  \n",
       "3     [0.0, 0.0, 0.0, 1.0, 0.0, 0.0]  \n",
       "4     [0.0, 0.0, 0.0, 0.0, 0.0, 1.0]  \n",
       "...                              ...  \n",
       "7437  [0.0, 0.0, 0.0, 1.0, 0.0, 0.0]  \n",
       "7438  [0.0, 1.0, 0.0, 0.0, 0.0, 0.0]  \n",
       "7439  [0.0, 0.0, 0.0, 0.0, 0.0, 1.0]  \n",
       "7440  [1.0, 0.0, 0.0, 0.0, 0.0, 0.0]  \n",
       "7441  [0.0, 0.0, 0.0, 1.0, 0.0, 0.0]  \n",
       "\n",
       "[7442 rows x 4 columns]"
      ]
     },
     "execution_count": 2,
     "metadata": {},
     "output_type": "execute_result"
    }
   ],
   "source": [
    "# Load data from the pickle file into a DataFrame\n",
    "with open('/Users/maryam/code/MaryamS-61/phoneme_classification/raw_data/Crema_spec_cnn_input.pkl', 'rb') as file:\n",
    "    loaded_df = pickle.load(file)\n",
    "loaded_df"
   ]
  },
  {
   "cell_type": "code",
   "execution_count": 3,
   "id": "ada84e29-85d3-4b35-a8e5-074fadb2834d",
   "metadata": {},
   "outputs": [],
   "source": [
    "X = np.stack([matrix for matrix in loaded_df.SpecInputCNN])"
   ]
  },
  {
   "cell_type": "code",
   "execution_count": 4,
   "id": "87da7560-cf0a-40b1-950e-3ca407b7ac56",
   "metadata": {},
   "outputs": [],
   "source": [
    "y = np.stack([label for label in loaded_df.EncodedLabels])"
   ]
  },
  {
   "cell_type": "code",
   "execution_count": 5,
   "id": "02f416b7-bf78-4d71-a37e-dc933bac59cf",
   "metadata": {},
   "outputs": [
    {
     "data": {
      "text/plain": [
       "(7442, 1031, 85)"
      ]
     },
     "execution_count": 5,
     "metadata": {},
     "output_type": "execute_result"
    }
   ],
   "source": [
    "X.shape"
   ]
  },
  {
   "cell_type": "code",
   "execution_count": 6,
   "id": "29eea5b1-ba85-4028-a335-ca6cf024ea3a",
   "metadata": {},
   "outputs": [],
   "source": [
    "three_channel_image = np.stack([X] * 3, axis=-1)"
   ]
  },
  {
   "cell_type": "code",
   "execution_count": 7,
   "id": "2a46da0c-1f03-4fd0-b625-3f3d29b7d4f2",
   "metadata": {},
   "outputs": [
    {
     "data": {
      "text/plain": [
       "(7442, 1031, 85, 3)"
      ]
     },
     "execution_count": 7,
     "metadata": {},
     "output_type": "execute_result"
    }
   ],
   "source": [
    "three_channel_image.shape"
   ]
  },
  {
   "cell_type": "code",
   "execution_count": 8,
   "id": "d6c306a8-2910-4867-8490-80218e7cd783",
   "metadata": {},
   "outputs": [],
   "source": [
    "x_train, x_test, y_train, y_test = train_test_split(three_channel_image, y, test_size=0.2)"
   ]
  },
  {
   "cell_type": "code",
   "execution_count": null,
   "id": "2a5c0f1e-aa40-42b7-a99f-9d69cb17858e",
   "metadata": {},
   "outputs": [],
   "source": [
    "# Considering only 1/50th of the 7441 Spectrograms\n",
    "reduction_factor = 50\n",
    "\n",
    "# Choosing the random indices of small train set and small test set\n",
    "idx_train =  np.random.choice(len(x_train), round(len(x_train)/reduction_factor), replace=False)\n",
    "idx_test =  np.random.choice(len(x_test), round(len(x_test)/reduction_factor), replace=False)\n"
   ]
  },
  {
   "cell_type": "code",
   "execution_count": null,
   "id": "68dd9b63-d7ad-4e4c-b0a4-ad646ff65013",
   "metadata": {},
   "outputs": [],
   "source": [
    "x_train_small = x_train[idx_train]\n",
    "x_test_small = x_test[idx_test]"
   ]
  },
  {
   "cell_type": "code",
   "execution_count": null,
   "id": "7de5275c-d2e6-41fc-8144-1615d96890d4",
   "metadata": {},
   "outputs": [],
   "source": [
    "labels_train_small = y[idx_train]\n",
    "labels_test_small = y[idx_test]"
   ]
  },
  {
   "cell_type": "code",
   "execution_count": null,
   "id": "65f0d52d-044c-49f7-8082-a72da01a161f",
   "metadata": {},
   "outputs": [],
   "source": [
    "\n",
    "print(\"------------------ Before -----------------\")\n",
    "print(x_train.shape, x_test.shape)\n",
    "\n",
    "print(\"\")\n",
    "\n",
    "print(\"--- After applying the reduction factor ---\")\n",
    "print(x_train_small.shape, x_test_small.shape)\n",
    "\n",
    "print(\"\")\n",
    "print(\"-\"*43)\n",
    "\n",
    "#unique, counts = np.unique(labels_train_small, return_counts=True)\n",
    "#dict(zip(unique, counts))"
   ]
  },
  {
   "cell_type": "code",
   "execution_count": 9,
   "id": "eac86581-a387-4dae-b115-4a9ca43d47aa",
   "metadata": {},
   "outputs": [],
   "source": [
    "from tensorflow.keras.applications import VGG16"
   ]
  },
  {
   "cell_type": "code",
   "execution_count": 10,
   "id": "0098189e-2bd0-4c54-8a46-e748a4adfdc6",
   "metadata": {},
   "outputs": [],
   "source": [
    "def initialize_model():\n",
    "    \n",
    "    base_model = VGG16(weights=\"imagenet\", include_top=False, input_shape = (1031, 85,3))\n",
    "\n",
    "    \n",
    "    model = models.Sequential()\n",
    "    model.add(base_model)\n",
    "\n",
    "    model.add(layers.Flatten())\n",
    "\n",
    "    model.add(layers.Dense(128, activation='relu'))\n",
    "    model.add(layers.Dropout(0.3))\n",
    "\n",
    "    model.add(layers.Dense(64, activation='relu'))\n",
    "    model.add(layers.Dropout(0.3))\n",
    "\n",
    "    model.add(layers.Dense(6, activation='softmax'))\n",
    "    print(\"Model initialized\")\n",
    "    return model"
   ]
  },
  {
   "cell_type": "code",
   "execution_count": 11,
   "id": "1d829166-a9d4-4e89-9d11-48d488493a4f",
   "metadata": {},
   "outputs": [],
   "source": [
    "def compile_model(model):\n",
    "    return model.compile(optimizer='adam', loss='categorical_crossentropy', metrics=['accuracy'])"
   ]
  },
  {
   "cell_type": "code",
   "execution_count": 12,
   "id": "f5662681-bc1a-43b6-9dbd-2087f0b803b0",
   "metadata": {},
   "outputs": [
    {
     "name": "stdout",
     "output_type": "stream",
     "text": [
      "Model initialized\n"
     ]
    }
   ],
   "source": [
    "model = initialize_model()\n",
    "compile_model(model=model)"
   ]
  },
  {
   "cell_type": "code",
   "execution_count": 13,
   "id": "f5df8f2b-2d47-46d2-87db-8a76f924ce47",
   "metadata": {},
   "outputs": [
    {
     "name": "stdout",
     "output_type": "stream",
     "text": [
      "Model: \"sequential\"\n",
      "_________________________________________________________________\n",
      " Layer (type)                Output Shape              Param #   \n",
      "=================================================================\n",
      " vgg16 (Functional)          (None, 32, 2, 512)        14714688  \n",
      "                                                                 \n",
      " flatten (Flatten)           (None, 32768)             0         \n",
      "                                                                 \n",
      " dense (Dense)               (None, 128)               4194432   \n",
      "                                                                 \n",
      " dropout (Dropout)           (None, 128)               0         \n",
      "                                                                 \n",
      " dense_1 (Dense)             (None, 64)                8256      \n",
      "                                                                 \n",
      " dropout_1 (Dropout)         (None, 64)                0         \n",
      "                                                                 \n",
      " dense_2 (Dense)             (None, 6)                 390       \n",
      "                                                                 \n",
      "=================================================================\n",
      "Total params: 18917766 (72.17 MB)\n",
      "Trainable params: 18917766 (72.17 MB)\n",
      "Non-trainable params: 0 (0.00 Byte)\n",
      "_________________________________________________________________\n"
     ]
    }
   ],
   "source": [
    "model.summary()"
   ]
  },
  {
   "cell_type": "code",
   "execution_count": null,
   "id": "42391e4f-3e41-414e-b583-d5e91d033d6c",
   "metadata": {},
   "outputs": [],
   "source": []
  },
  {
   "cell_type": "code",
   "execution_count": null,
   "id": "b9febe32-4efd-4e7f-9097-07ecf97f03cc",
   "metadata": {},
   "outputs": [],
   "source": [
    "from tensorflow.keras.callbacks import EarlyStopping\n",
    "\n",
    "#es = EarlyStopping()\n",
    "\n",
    "history = model.fit(x_train,\n",
    "          y_train,\n",
    "          validation_split = 0.3,\n",
    "          epochs = 30,\n",
    "          batch_size = 32,\n",
    "          verbose = 1,\n",
    "          #callbacks = [es]\n",
    "          )"
   ]
  },
  {
   "cell_type": "code",
   "execution_count": null,
   "id": "547e23d9-70d8-433f-b9eb-a79204fcb0f0",
   "metadata": {},
   "outputs": [],
   "source": [
    "def plot_history(history, title='', axs=None, exp_name=\"\"):\n",
    "    if axs is not None:\n",
    "        ax1, ax2 = axs\n",
    "    else:\n",
    "        f, (ax1, ax2) = plt.subplots(1, 2, figsize=(12, 4))\n",
    "\n",
    "    if len(exp_name) > 0 and exp_name[0] != '_':\n",
    "        exp_name = '_' + exp_name\n",
    "    ax1.plot(history.history['loss'], label = 'train' + exp_name)\n",
    "    ax1.plot(history.history['val_loss'], label = 'val' + exp_name)\n",
    "    ax1.set_ylim(0., 2.2)\n",
    "    ax1.set_title('loss')\n",
    "    ax1.legend()\n",
    "\n",
    "    ax2.plot(history.history['accuracy'], label='train accuracy'  + exp_name)\n",
    "    ax2.plot(history.history['val_accuracy'], label='val accuracy'  + exp_name)\n",
    "    ax2.set_ylim(0.25, 1)\n",
    "    ax2.set_title('Accuracy')\n",
    "    ax2.legend()\n",
    "    return (ax1, ax2)"
   ]
  },
  {
   "cell_type": "code",
   "execution_count": null,
   "id": "65bde43c-b4d7-47e2-8be8-d76bd410974d",
   "metadata": {},
   "outputs": [],
   "source": [
    "plot_history(history)"
   ]
  },
  {
   "cell_type": "code",
   "execution_count": null,
   "id": "8d73d86d-eb97-4f82-b773-d281fd93768a",
   "metadata": {},
   "outputs": [],
   "source": [
    "#model.save('first_cnn_model.h5')"
   ]
  },
  {
   "cell_type": "code",
   "execution_count": null,
   "id": "f4259bbc-b59a-4471-8771-a590258b0ee6",
   "metadata": {},
   "outputs": [],
   "source": [
    "#model.save_weights('first_cnn_model_weights_25epochs.h5')"
   ]
  },
  {
   "cell_type": "code",
   "execution_count": null,
   "id": "f52d64fa-fab6-48cc-ad9c-101b13b29ea1",
   "metadata": {},
   "outputs": [],
   "source": [
    "#loaded_model = tf.keras.models.load_model('first_cnn_model.h5')"
   ]
  }
 ],
 "metadata": {
  "kernelspec": {
   "display_name": "Python 3 (ipykernel)",
   "language": "python",
   "name": "python3"
  },
  "language_info": {
   "codemirror_mode": {
    "name": "ipython",
    "version": 3
   },
   "file_extension": ".py",
   "mimetype": "text/x-python",
   "name": "python",
   "nbconvert_exporter": "python",
   "pygments_lexer": "ipython3",
   "version": "3.10.6"
  }
 },
 "nbformat": 4,
 "nbformat_minor": 5
}
