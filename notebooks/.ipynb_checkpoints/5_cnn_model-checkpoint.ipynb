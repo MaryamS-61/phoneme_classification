{
 "cells": [
  {
   "cell_type": "code",
   "execution_count": 92,
   "id": "6c86bba9-0793-48a0-8829-f0ecee8e7b77",
   "metadata": {},
   "outputs": [],
   "source": [
    "import numpy as np\n",
    "import pandas as pd\n",
    "import tensorflow as tf\n",
    "import matplotlib.pyplot as plt\n",
    "import pickle\n",
    "\n",
    "from sklearn.preprocessing import LabelEncoder\n",
    "from sklearn.model_selection import train_test_split\n",
    "from tensorflow.keras import layers, models"
   ]
  },
  {
   "cell_type": "code",
   "execution_count": 93,
   "id": "f6df4a80-cf35-47e1-b334-e873f8e451c2",
   "metadata": {
    "scrolled": true
   },
   "outputs": [
    {
     "data": {
      "text/html": [
       "<div>\n",
       "<style scoped>\n",
       "    .dataframe tbody tr th:only-of-type {\n",
       "        vertical-align: middle;\n",
       "    }\n",
       "\n",
       "    .dataframe tbody tr th {\n",
       "        vertical-align: top;\n",
       "    }\n",
       "\n",
       "    .dataframe thead th {\n",
       "        text-align: right;\n",
       "    }\n",
       "</style>\n",
       "<table border=\"1\" class=\"dataframe\">\n",
       "  <thead>\n",
       "    <tr style=\"text-align: right;\">\n",
       "      <th></th>\n",
       "      <th>Label</th>\n",
       "      <th>FileNames</th>\n",
       "      <th>SpecInputCNN</th>\n",
       "      <th>EncodedLabels</th>\n",
       "    </tr>\n",
       "  </thead>\n",
       "  <tbody>\n",
       "    <tr>\n",
       "      <th>0</th>\n",
       "      <td>SAD</td>\n",
       "      <td>1081_ITH_SAD_XX.wav</td>\n",
       "      <td>[[0.0, 0.0, 0.0, 0.0, 0.0, 0.0, 0.0, 0.0, 0.0,...</td>\n",
       "      <td>[0.0, 0.0, 0.0, 0.0, 0.0, 1.0]</td>\n",
       "    </tr>\n",
       "    <tr>\n",
       "      <th>1</th>\n",
       "      <td>ANG</td>\n",
       "      <td>1081_IEO_ANG_LO.wav</td>\n",
       "      <td>[[0.0, 0.0, 0.0, 0.0, 0.0, 0.0, 0.0, 0.0, 0.0,...</td>\n",
       "      <td>[1.0, 0.0, 0.0, 0.0, 0.0, 0.0]</td>\n",
       "    </tr>\n",
       "    <tr>\n",
       "      <th>2</th>\n",
       "      <td>NEU</td>\n",
       "      <td>1079_TSI_NEU_XX.wav</td>\n",
       "      <td>[[0.0, 0.0, 0.0, 0.0, 0.0, 0.0, 0.0, 0.0, 0.0,...</td>\n",
       "      <td>[0.0, 0.0, 0.0, 0.0, 1.0, 0.0]</td>\n",
       "    </tr>\n",
       "    <tr>\n",
       "      <th>3</th>\n",
       "      <td>HAP</td>\n",
       "      <td>1080_IEO_HAP_LO.wav</td>\n",
       "      <td>[[0.0, 0.0, 0.0, 0.0, 0.0, 0.0, 0.0, 0.0, 0.0,...</td>\n",
       "      <td>[0.0, 0.0, 0.0, 1.0, 0.0, 0.0]</td>\n",
       "    </tr>\n",
       "    <tr>\n",
       "      <th>4</th>\n",
       "      <td>SAD</td>\n",
       "      <td>1079_IEO_SAD_HI.wav</td>\n",
       "      <td>[[0.0, 0.0, 0.0, 0.0, 0.0, 0.0, 0.0, 0.0, 0.0,...</td>\n",
       "      <td>[0.0, 0.0, 0.0, 0.0, 0.0, 1.0]</td>\n",
       "    </tr>\n",
       "    <tr>\n",
       "      <th>...</th>\n",
       "      <td>...</td>\n",
       "      <td>...</td>\n",
       "      <td>...</td>\n",
       "      <td>...</td>\n",
       "    </tr>\n",
       "    <tr>\n",
       "      <th>7437</th>\n",
       "      <td>HAP</td>\n",
       "      <td>1007_IWL_HAP_XX.wav</td>\n",
       "      <td>[[0.0, 0.0, 0.0, 0.0, 0.0, 0.0, 0.0, 0.0, 0.0,...</td>\n",
       "      <td>[0.0, 0.0, 0.0, 1.0, 0.0, 0.0]</td>\n",
       "    </tr>\n",
       "    <tr>\n",
       "      <th>7438</th>\n",
       "      <td>DIS</td>\n",
       "      <td>1008_IEO_DIS_LO.wav</td>\n",
       "      <td>[[0.0, 0.0, 0.0, 0.0, 0.0, 0.0, 0.0, 0.0, 0.0,...</td>\n",
       "      <td>[0.0, 1.0, 0.0, 0.0, 0.0, 0.0]</td>\n",
       "    </tr>\n",
       "    <tr>\n",
       "      <th>7439</th>\n",
       "      <td>SAD</td>\n",
       "      <td>1006_TSI_SAD_XX.wav</td>\n",
       "      <td>[[0.0, 0.0, 0.0, 0.0, 0.0, 0.0, 0.0, 0.0, 0.0,...</td>\n",
       "      <td>[0.0, 0.0, 0.0, 0.0, 0.0, 1.0]</td>\n",
       "    </tr>\n",
       "    <tr>\n",
       "      <th>7440</th>\n",
       "      <td>ANG</td>\n",
       "      <td>1006_TAI_ANG_XX.wav</td>\n",
       "      <td>[[0.0, 0.0, 0.0, 0.0, 0.0, 0.0, 0.0, 0.0, 0.0,...</td>\n",
       "      <td>[1.0, 0.0, 0.0, 0.0, 0.0, 0.0]</td>\n",
       "    </tr>\n",
       "    <tr>\n",
       "      <th>7441</th>\n",
       "      <td>HAP</td>\n",
       "      <td>1006_TSI_HAP_XX.wav</td>\n",
       "      <td>[[0.0, 0.0, 0.0, 0.0, 0.0, 0.0, 0.0, 0.0, 0.0,...</td>\n",
       "      <td>[0.0, 0.0, 0.0, 1.0, 0.0, 0.0]</td>\n",
       "    </tr>\n",
       "  </tbody>\n",
       "</table>\n",
       "<p>7442 rows × 4 columns</p>\n",
       "</div>"
      ],
      "text/plain": [
       "     Label            FileNames  \\\n",
       "0      SAD  1081_ITH_SAD_XX.wav   \n",
       "1      ANG  1081_IEO_ANG_LO.wav   \n",
       "2      NEU  1079_TSI_NEU_XX.wav   \n",
       "3      HAP  1080_IEO_HAP_LO.wav   \n",
       "4      SAD  1079_IEO_SAD_HI.wav   \n",
       "...    ...                  ...   \n",
       "7437   HAP  1007_IWL_HAP_XX.wav   \n",
       "7438   DIS  1008_IEO_DIS_LO.wav   \n",
       "7439   SAD  1006_TSI_SAD_XX.wav   \n",
       "7440   ANG  1006_TAI_ANG_XX.wav   \n",
       "7441   HAP  1006_TSI_HAP_XX.wav   \n",
       "\n",
       "                                           SpecInputCNN  \\\n",
       "0     [[0.0, 0.0, 0.0, 0.0, 0.0, 0.0, 0.0, 0.0, 0.0,...   \n",
       "1     [[0.0, 0.0, 0.0, 0.0, 0.0, 0.0, 0.0, 0.0, 0.0,...   \n",
       "2     [[0.0, 0.0, 0.0, 0.0, 0.0, 0.0, 0.0, 0.0, 0.0,...   \n",
       "3     [[0.0, 0.0, 0.0, 0.0, 0.0, 0.0, 0.0, 0.0, 0.0,...   \n",
       "4     [[0.0, 0.0, 0.0, 0.0, 0.0, 0.0, 0.0, 0.0, 0.0,...   \n",
       "...                                                 ...   \n",
       "7437  [[0.0, 0.0, 0.0, 0.0, 0.0, 0.0, 0.0, 0.0, 0.0,...   \n",
       "7438  [[0.0, 0.0, 0.0, 0.0, 0.0, 0.0, 0.0, 0.0, 0.0,...   \n",
       "7439  [[0.0, 0.0, 0.0, 0.0, 0.0, 0.0, 0.0, 0.0, 0.0,...   \n",
       "7440  [[0.0, 0.0, 0.0, 0.0, 0.0, 0.0, 0.0, 0.0, 0.0,...   \n",
       "7441  [[0.0, 0.0, 0.0, 0.0, 0.0, 0.0, 0.0, 0.0, 0.0,...   \n",
       "\n",
       "                       EncodedLabels  \n",
       "0     [0.0, 0.0, 0.0, 0.0, 0.0, 1.0]  \n",
       "1     [1.0, 0.0, 0.0, 0.0, 0.0, 0.0]  \n",
       "2     [0.0, 0.0, 0.0, 0.0, 1.0, 0.0]  \n",
       "3     [0.0, 0.0, 0.0, 1.0, 0.0, 0.0]  \n",
       "4     [0.0, 0.0, 0.0, 0.0, 0.0, 1.0]  \n",
       "...                              ...  \n",
       "7437  [0.0, 0.0, 0.0, 1.0, 0.0, 0.0]  \n",
       "7438  [0.0, 1.0, 0.0, 0.0, 0.0, 0.0]  \n",
       "7439  [0.0, 0.0, 0.0, 0.0, 0.0, 1.0]  \n",
       "7440  [1.0, 0.0, 0.0, 0.0, 0.0, 0.0]  \n",
       "7441  [0.0, 0.0, 0.0, 1.0, 0.0, 0.0]  \n",
       "\n",
       "[7442 rows x 4 columns]"
      ]
     },
     "execution_count": 93,
     "metadata": {},
     "output_type": "execute_result"
    }
   ],
   "source": [
    "# Load data from the pickle file into a DataFrame\n",
    "with open('/Users/maryam/code/MaryamS-61/phoneme_classification/raw_data/Crema_spec_cnn_input.pkl', 'rb') as file:\n",
    "    loaded_df = pickle.load(file)\n",
    "loaded_df"
   ]
  },
  {
   "cell_type": "markdown",
   "id": "e931e733-e944-4b7a-8ef4-181aa69604f3",
   "metadata": {},
   "source": [
    "# Creating Train and Test set"
   ]
  },
  {
   "cell_type": "code",
   "execution_count": 45,
   "id": "ada84e29-85d3-4b35-a8e5-074fadb2834d",
   "metadata": {},
   "outputs": [],
   "source": [
    "X = np.stack([matrix for matrix in loaded_df.SpecInputCNN])"
   ]
  },
  {
   "cell_type": "code",
   "execution_count": 46,
   "id": "87da7560-cf0a-40b1-950e-3ca407b7ac56",
   "metadata": {},
   "outputs": [],
   "source": [
    "y = np.stack([label for label in loaded_df.EncodedLabels])"
   ]
  },
  {
   "cell_type": "code",
   "execution_count": 49,
   "id": "d6c306a8-2910-4867-8490-80218e7cd783",
   "metadata": {},
   "outputs": [],
   "source": [
    "x_train, x_test, y_train, y_test = train_test_split(X, y, test_size=0.2)"
   ]
  },
  {
   "cell_type": "markdown",
   "id": "010f9a74-6559-4a16-85bd-5493c20491de",
   "metadata": {},
   "source": [
    "# creating a small subset (testing purpose)"
   ]
  },
  {
   "cell_type": "code",
   "execution_count": 8,
   "id": "2a5c0f1e-aa40-42b7-a99f-9d69cb17858e",
   "metadata": {},
   "outputs": [],
   "source": [
    "# Considering only 1/50th of the 7441 Spectrograms\n",
    "reduction_factor = 50\n",
    "\n",
    "# Choosing the random indices of small train set and small test set\n",
    "idx_train =  np.random.choice(len(x_train), round(len(x_train)/reduction_factor), replace=False)\n",
    "idx_test =  np.random.choice(len(x_test), round(len(x_test)/reduction_factor), replace=False)\n"
   ]
  },
  {
   "cell_type": "code",
   "execution_count": 10,
   "id": "68dd9b63-d7ad-4e4c-b0a4-ad646ff65013",
   "metadata": {},
   "outputs": [],
   "source": [
    "x_train_small = x_train[idx_train]\n",
    "x_test_small = x_test[idx_test]"
   ]
  },
  {
   "cell_type": "code",
   "execution_count": 11,
   "id": "7de5275c-d2e6-41fc-8144-1615d96890d4",
   "metadata": {},
   "outputs": [],
   "source": [
    "labels_train_small = y[idx_train]\n",
    "labels_test_small = y[idx_test]"
   ]
  },
  {
   "cell_type": "code",
   "execution_count": 12,
   "id": "65f0d52d-044c-49f7-8082-a72da01a161f",
   "metadata": {},
   "outputs": [
    {
     "name": "stdout",
     "output_type": "stream",
     "text": [
      "------------------ Before -----------------\n",
      "(5953, 1031, 85) (1489, 1031, 85)\n",
      "\n",
      "--- After applying the reduction factor ---\n",
      "(119, 1031, 85) (30, 1031, 85)\n",
      "\n",
      "-------------------------------------------\n"
     ]
    }
   ],
   "source": [
    "\n",
    "print(\"------------------ Before -----------------\")\n",
    "print(x_train.shape, x_test.shape)\n",
    "\n",
    "print(\"\")\n",
    "\n",
    "print(\"--- After applying the reduction factor ---\")\n",
    "print(x_train_small.shape, x_test_small.shape)\n",
    "\n",
    "print(\"\")\n",
    "print(\"-\"*43)\n",
    "\n",
    "#unique, counts = np.unique(labels_train_small, return_counts=True)\n",
    "#dict(zip(unique, counts))"
   ]
  },
  {
   "cell_type": "markdown",
   "id": "7f79ade3-f34a-45c5-9170-8c906572d9d3",
   "metadata": {},
   "source": [
    "# Define a Model"
   ]
  },
  {
   "cell_type": "code",
   "execution_count": 72,
   "id": "aebb6449-efbd-4f4e-aacb-55a6efd061e5",
   "metadata": {},
   "outputs": [],
   "source": [
    "def initialize_model():\n",
    "    model = models.Sequential()\n",
    "\n",
    "    ### First Convolution & MaxPooling\n",
    "    model.add(layers.Conv2D(128, kernel_size=(9, 9), activation='relu', padding='same', strides= (4,2), input_shape=(1031, 85, 1)))\n",
    "    #model.add(layers.MaxPool2D(pool_size=(2, 2)))\n",
    "    model.add(layers.Dropout(0.2))\n",
    "\n",
    "    ### Second Convolution & MaxPooling\n",
    "    model.add(layers.Conv2D(128, (4, 4), activation='relu', padding='same', strides= (2,2)))\n",
    "    model.add(layers.MaxPool2D(pool_size=(2, 2)))\n",
    "    model.add(layers.Dropout(0.3))\n",
    "\n",
    "    ### third Convolution & MaxPooling\n",
    "    model.add(layers.Conv2D(32, (3, 3), activation='relu', padding='same', strides= (1,1)))\n",
    "    model.add(layers.MaxPool2D(pool_size=(2, 2)))\n",
    "    model.add(layers.Dropout(0.3))\n",
    "\n",
    "    ### fourth Convolution & MaxPooling\n",
    "    model.add(layers.Conv2D(32, (3, 3), activation='relu', padding='same', strides= (1,1)))\n",
    "    model.add(layers.MaxPool2D(pool_size=(2, 2)))\n",
    "\n",
    "\n",
    "    ### Flattening\n",
    "    model.add(layers.Flatten())\n",
    "\n",
    "    ### One Fully Connected layer - \"Fully Connected\" is equivalent to saying \"Dense\"\n",
    "    #model.add(layers.Dense(32, activation='relu'))\n",
    "\n",
    "    ### Last layer\n",
    "    model.add(layers.Dense(6, activation='softmax'))\n",
    "\n",
    "    return model\n"
   ]
  },
  {
   "cell_type": "code",
   "execution_count": 73,
   "id": "1d829166-a9d4-4e89-9d11-48d488493a4f",
   "metadata": {},
   "outputs": [],
   "source": [
    "def compile_model(model):\n",
    "    return model.compile(optimizer='adam', loss='categorical_crossentropy', metrics=['accuracy'])"
   ]
  },
  {
   "cell_type": "code",
   "execution_count": 74,
   "id": "f5662681-bc1a-43b6-9dbd-2087f0b803b0",
   "metadata": {},
   "outputs": [],
   "source": [
    "model = initialize_model()\n",
    "compile_model(model=model)"
   ]
  },
  {
   "cell_type": "code",
   "execution_count": 55,
   "id": "f5df8f2b-2d47-46d2-87db-8a76f924ce47",
   "metadata": {},
   "outputs": [
    {
     "name": "stdout",
     "output_type": "stream",
     "text": [
      "Model: \"sequential_1\"\n",
      "_________________________________________________________________\n",
      " Layer (type)                Output Shape              Param #   \n",
      "=================================================================\n",
      " conv2d_4 (Conv2D)           (None, 258, 43, 128)      10496     \n",
      "                                                                 \n",
      " dropout_3 (Dropout)         (None, 258, 43, 128)      0         \n",
      "                                                                 \n",
      " conv2d_5 (Conv2D)           (None, 129, 22, 128)      262272    \n",
      "                                                                 \n",
      " max_pooling2d_3 (MaxPoolin  (None, 64, 11, 128)       0         \n",
      " g2D)                                                            \n",
      "                                                                 \n",
      " dropout_4 (Dropout)         (None, 64, 11, 128)       0         \n",
      "                                                                 \n",
      " conv2d_6 (Conv2D)           (None, 64, 11, 32)        36896     \n",
      "                                                                 \n",
      " max_pooling2d_4 (MaxPoolin  (None, 32, 5, 32)         0         \n",
      " g2D)                                                            \n",
      "                                                                 \n",
      " dropout_5 (Dropout)         (None, 32, 5, 32)         0         \n",
      "                                                                 \n",
      " conv2d_7 (Conv2D)           (None, 32, 5, 32)         9248      \n",
      "                                                                 \n",
      " max_pooling2d_5 (MaxPoolin  (None, 16, 2, 32)         0         \n",
      " g2D)                                                            \n",
      "                                                                 \n",
      " flatten_1 (Flatten)         (None, 1024)              0         \n",
      "                                                                 \n",
      " dense_1 (Dense)             (None, 6)                 6150      \n",
      "                                                                 \n",
      "=================================================================\n",
      "Total params: 325062 (1.24 MB)\n",
      "Trainable params: 325062 (1.24 MB)\n",
      "Non-trainable params: 0 (0.00 Byte)\n",
      "_________________________________________________________________\n"
     ]
    }
   ],
   "source": [
    "model.summary()"
   ]
  },
  {
   "cell_type": "markdown",
   "id": "4e5883f6-71bc-49f3-bc1c-95169e44fe49",
   "metadata": {},
   "source": [
    "# Train the model"
   ]
  },
  {
   "cell_type": "code",
   "execution_count": 75,
   "id": "b9febe32-4efd-4e7f-9097-07ecf97f03cc",
   "metadata": {},
   "outputs": [
    {
     "name": "stdout",
     "output_type": "stream",
     "text": [
      "131/131 [==============================] - 107s 817ms/step - loss: 1.6551 - accuracy: 0.2889 - val_loss: 1.4931 - val_accuracy: 0.3981\n"
     ]
    }
   ],
   "source": [
    "from tensorflow.keras.callbacks import EarlyStopping\n",
    "\n",
    "#es = EarlyStopping()\n",
    "\n",
    "history = model.fit(x_train,\n",
    "          y_train,\n",
    "          validation_split = 0.3,\n",
    "          epochs = 1,\n",
    "          batch_size = 32,\n",
    "          verbose = 1,\n",
    "          #callbacks = [es]\n",
    "          )"
   ]
  },
  {
   "cell_type": "code",
   "execution_count": 45,
   "id": "547e23d9-70d8-433f-b9eb-a79204fcb0f0",
   "metadata": {},
   "outputs": [],
   "source": [
    "def plot_history(history, title='', axs=None, exp_name=\"\"):\n",
    "    if axs is not None:\n",
    "        ax1, ax2 = axs\n",
    "    else:\n",
    "        f, (ax1, ax2) = plt.subplots(1, 2, figsize=(12, 4))\n",
    "\n",
    "    if len(exp_name) > 0 and exp_name[0] != '_':\n",
    "        exp_name = '_' + exp_name\n",
    "    ax1.plot(history.history['loss'], label = 'train' + exp_name)\n",
    "    ax1.plot(history.history['val_loss'], label = 'val' + exp_name)\n",
    "    ax1.set_ylim(0., 2.2)\n",
    "    ax1.set_title('loss')\n",
    "    ax1.legend()\n",
    "\n",
    "    ax2.plot(history.history['accuracy'], label='train accuracy'  + exp_name)\n",
    "    ax2.plot(history.history['val_accuracy'], label='val accuracy'  + exp_name)\n",
    "    ax2.set_ylim(0.25, 1)\n",
    "    ax2.set_title('Accuracy')\n",
    "    ax2.legend()\n",
    "    return (ax1, ax2)"
   ]
  },
  {
   "cell_type": "code",
   "execution_count": 35,
   "id": "65bde43c-b4d7-47e2-8be8-d76bd410974d",
   "metadata": {},
   "outputs": [
    {
     "data": {
      "text/plain": [
       "(<Axes: title={'center': 'loss'}>, <Axes: title={'center': 'Accuracy'}>)"
      ]
     },
     "execution_count": 35,
     "metadata": {},
     "output_type": "execute_result"
    },
    {
     "data": {
      "image/png": "[encoded data removed]",
      "text/plain": [
       "<Figure size 1200x400 with 2 Axes>"
      ]
     },
     "metadata": {},
     "output_type": "display_data"
    }
   ],
   "source": [
    "plot_history(history)"
   ]
  },
  {
   "cell_type": "markdown",
   "id": "870bc610-e3be-4f45-9c7e-c1ba20c4d21d",
   "metadata": {},
   "source": [
    "# Saving the model and Weights"
   ]
  },
  {
   "cell_type": "code",
   "execution_count": 46,
   "id": "e2e608ec-5775-46e6-9eee-2919a91ca7cb",
   "metadata": {},
   "outputs": [
    {
     "name": "stderr",
     "output_type": "stream",
     "text": [
      "/Users/maryam/.pyenv/versions/3.10.6/envs/phoneme_classification/lib/python3.10/site-packages/keras/src/engine/training.py:3079: UserWarning: You are saving your model as an HDF5 file via `model.save()`. This file format is considered legacy. We recommend using instead the native Keras format, e.g. `model.save('my_model.keras')`.\n",
      "  saving_api.save_model(\n"
     ]
    }
   ],
   "source": [
    "#model.save('first_cnn_model_maryam.h5')"
   ]
  },
  {
   "cell_type": "code",
   "execution_count": 47,
   "id": "302a6ced-9d22-444c-bdf7-831b73eef2b5",
   "metadata": {},
   "outputs": [],
   "source": [
    "#model.save_weights('first_cnn_model_weights_20epochs.h5')"
   ]
  },
  {
   "cell_type": "markdown",
   "id": "d56ab7c8-091e-47f7-a493-1f3f5ea2728f",
   "metadata": {},
   "source": [
    "# Prediction"
   ]
  },
  {
   "cell_type": "code",
   "execution_count": 87,
   "id": "f4259bbc-b59a-4471-8771-a590258b0ee6",
   "metadata": {},
   "outputs": [],
   "source": [
    "loaded_model = tf.keras.models.load_model('/Users/maryam/code/MaryamS-61/phoneme_classification/notebooks/Model/first_cnn_model_maryam.h5')"
   ]
  },
  {
   "cell_type": "code",
   "execution_count": 88,
   "id": "dc293323-56d5-4d49-91dd-bea4ae68fd04",
   "metadata": {},
   "outputs": [
    {
     "data": {
      "text/plain": [
       "Label                                                          SAD\n",
       "FileNames                                      1081_ITH_SAD_XX.wav\n",
       "SpecInputCNN     [[0.0, 0.0, 0.0, 0.0, 0.0, 0.0, 0.0, 0.0, 0.0,...\n",
       "EncodedLabels                       [0.0, 0.0, 0.0, 0.0, 0.0, 1.0]\n",
       "Name: 0, dtype: object"
      ]
     },
     "execution_count": 88,
     "metadata": {},
     "output_type": "execute_result"
    }
   ],
   "source": [
    "with open('Crema_sample_cnn_input.pkl', 'rb') as file:\n",
    "    loaded_df = pickle.load(file)\n",
    "loaded_df"
   ]
  },
  {
   "cell_type": "code",
   "execution_count": 90,
   "id": "bfd9b249-aff4-4b44-93d3-b349d2d7e88d",
   "metadata": {},
   "outputs": [
    {
     "name": "stdout",
     "output_type": "stream",
     "text": [
      "1/1 [==============================] - 0s 52ms/step\n"
     ]
    },
    {
     "data": {
      "text/plain": [
       "array([[0.00618201, 0.12964697, 0.15152083, 0.04240068, 0.12047109,\n",
       "        0.54977834]], dtype=float32)"
      ]
     },
     "execution_count": 90,
     "metadata": {},
     "output_type": "execute_result"
    }
   ],
   "source": [
    "loaded_model.predict(np.expand_dims(loaded_df.SpecInputCNN, axis=0))"
   ]
  },
  {
   "cell_type": "markdown",
   "id": "47940a5a-8fff-461a-914d-19d8a4f7a735",
   "metadata": {},
   "source": [
    "# Test with different Emotions"
   ]
  },
  {
   "cell_type": "code",
   "execution_count": 97,
   "id": "6d0764fb-403a-4539-ad66-831d2830ecab",
   "metadata": {},
   "outputs": [],
   "source": [
    "happy_file = loaded_df[loaded_df['Label'] == 'HAP'].iloc[0]"
   ]
  },
  {
   "cell_type": "code",
   "execution_count": 98,
   "id": "c2a09567-2be8-43e8-ae90-5141177c7a93",
   "metadata": {},
   "outputs": [],
   "source": [
    "with open('Crema_happy_cnn_input.pkl', 'wb') as file:\n",
    "    pickle.dump(happy_file, file)"
   ]
  },
  {
   "cell_type": "code",
   "execution_count": null,
   "id": "4d3a8e38-368a-4fd0-8319-4b5c1302e202",
   "metadata": {},
   "outputs": [],
   "source": []
  }
 ],
 "metadata": {
  "kernelspec": {
   "display_name": "Python 3 (ipykernel)",
   "language": "python",
   "name": "python3"
  },
  "language_info": {
   "codemirror_mode": {
    "name": "ipython",
    "version": 3
   },
   "file_extension": ".py",
   "mimetype": "text/x-python",
   "name": "python",
   "nbconvert_exporter": "python",
   "pygments_lexer": "ipython3",
   "version": "3.10.6"
  }
 },
 "nbformat": 4,
 "nbformat_minor": 5
}
